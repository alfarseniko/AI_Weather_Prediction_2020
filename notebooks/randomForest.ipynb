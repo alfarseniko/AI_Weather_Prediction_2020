{
 "cells": [
  {
   "cell_type": "code",
   "execution_count": null,
   "metadata": {},
   "outputs": [],
   "source": [
    "import pandas as pd"
   ]
  },
  {
   "cell_type": "code",
   "execution_count": null,
   "metadata": {},
   "outputs": [],
   "source": [
    "df = pd.read_csv('../trainingData/GlobalLandTemperaturesByCity.csv')"
   ]
  },
  {
   "cell_type": "code",
   "execution_count": null,
   "metadata": {},
   "outputs": [],
   "source": [
    "print(df.shape)\n",
    "print(df.isnull().sum())"
   ]
  },
  {
   "cell_type": "code",
   "execution_count": null,
   "metadata": {},
   "outputs": [],
   "source": [
    "df.dropna(inplace=True)\n",
    "df['dt'] = pd.to_datetime(df['dt'])\n",
    "\n",
    "# Extract features like day of the year, month, etc.\n",
    "df['day_of_year'] = df['dt'].dt.dayofyear\n",
    "df['month'] = df['dt'].dt.month\n",
    "df['year'] = df['dt'].dt.year\n",
    "df['day_of_week'] = df['dt'].dt.dayofweek  # Monday=0, Sunday=6\n",
    "df.head()"
   ]
  },
  {
   "cell_type": "code",
   "execution_count": null,
   "metadata": {},
   "outputs": [],
   "source": [
    "from sklearn.model_selection import train_test_split\n",
    "\n",
    "# Assuming df is your DataFrame containing the dataset\n",
    "\n",
    "# Reduce the dataset to every 4th entry\n",
    "reduced_df = df.iloc[::4]\n",
    "\n",
    "# Now, work with reduced_df instead of df\n",
    "X = reduced_df.drop(['dt', 'AverageTemperature'], axis=1)  # Features\n",
    "y = reduced_df['AverageTemperature']  # Target variable\n",
    "\n",
    "# Split the dataset into training and testing sets\n",
    "# Here, we are using 80% of the data for training and 20% for testing\n",
    "X_train, X_test, y_train, y_test = train_test_split(X, y, test_size=0.2, random_state=42)\n",
    "\n",
    "# Optionally, you can print the shapes of the resulting datasets to verify the split\n",
    "print(\"Training set - Features shape:\", X_train.shape)\n",
    "print(\"Training set - Target shape:\", y_train.shape)\n",
    "print(\"Testing set - Features shape:\", X_test.shape)\n",
    "print(\"Testing set - Target shape:\", y_test.shape)"
   ]
  },
  {
   "cell_type": "code",
   "execution_count": null,
   "metadata": {},
   "outputs": [],
   "source": [
    "# Drop 'City' and 'Country' columns\n",
    "X_train = X_train.drop(['City', 'Country'], axis=1)\n",
    "X_test = X_test.drop(['City', 'Country'], axis=1)\n",
    "print(\"Training set - Features shape:\", X_train.shape)\n",
    "print(\"Training set - Target shape:\", y_train.shape)\n",
    "print(\"Testing set - Features shape:\", X_test.shape)\n",
    "print(\"Testing set - Target shape:\", y_test.shape)"
   ]
  },
  {
   "cell_type": "code",
   "execution_count": null,
   "metadata": {},
   "outputs": [],
   "source": [
    "# Define a function to convert latitude and longitude values to numeric format\n",
    "def convert_to_numeric(value):\n",
    "    if isinstance(value, float):  # Check if value is already numeric\n",
    "        return value\n",
    "    direction = 1  # Assume positive direction by default\n",
    "    if value.endswith('S') or value.endswith('W'):\n",
    "        direction = -1  # Negative direction for South and West\n",
    "    return direction * float(value[:-1])  # Convert value to float and apply direction\n",
    "\n",
    "\n",
    "# Convert 'Latitude' and 'Longitude' columns to numeric format\n",
    "X_train['Latitude'] = X_train['Latitude'].apply(convert_to_numeric)\n",
    "X_train['Longitude'] = X_train['Longitude'].apply(convert_to_numeric)\n",
    "\n",
    "X_test['Latitude'] = X_test['Latitude'].apply(convert_to_numeric)\n",
    "X_test['Longitude'] = X_test['Longitude'].apply(convert_to_numeric)\n"
   ]
  },
  {
   "cell_type": "code",
   "execution_count": null,
   "metadata": {},
   "outputs": [],
   "source": [
    "from sklearn.ensemble import RandomForestRegressor\n",
    "\n",
    "# Train Random Forest Model\n",
    "rf_model = RandomForestRegressor(n_estimators=50, random_state=42)\n",
    "rf_model.fit(X_train, y_train)\n",
    "\n",
    "# Optionally, you can print the trained model to see its parameters\n",
    "print(\"Trained Random Forest Model:\", rf_model)\n"
   ]
  },
  {
   "cell_type": "code",
   "execution_count": null,
   "metadata": {},
   "outputs": [],
   "source": [
    "from sklearn.metrics import mean_absolute_error, mean_squared_error\n",
    "\n",
    "# Predict on the testing data\n",
    "y_pred = rf_model.predict(X_test)\n",
    "\n",
    "# Calculate evaluation metrics\n",
    "mae = mean_absolute_error(y_test, y_pred)\n",
    "mse = mean_squared_error(y_test, y_pred)\n",
    "rmse = mean_squared_error(y_test, y_pred, squared=False)  # Calculate RMSE from MSE\n",
    "\n",
    "# Print evaluation metrics\n",
    "print(\"Mean Absolute Error (MAE):\", mae)\n",
    "print(\"Mean Squared Error (MSE):\", mse)\n",
    "print(\"Root Mean Squared Error (RMSE):\", rmse)\n"
   ]
  },
  {
   "cell_type": "code",
   "execution_count": null,
   "metadata": {},
   "outputs": [],
   "source": []
  }
 ],
 "metadata": {
  "language_info": {
   "name": "python"
  }
 },
 "nbformat": 4,
 "nbformat_minor": 2
}
